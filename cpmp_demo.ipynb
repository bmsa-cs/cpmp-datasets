{
  "nbformat": 4,
  "nbformat_minor": 0,
  "metadata": {
    "colab": {
      "name": "CPMP Demo.ipynb",
      "provenance": []
    },
    "kernelspec": {
      "name": "python3",
      "display_name": "Python 3"
    }
  },
  "cells": [
    {
      "cell_type": "markdown",
      "metadata": {
        "id": "0MQrCJ2IARI_"
      },
      "source": [
        "# CPMP Demo\n",
        "A proof of concept of using CPMP-Tools Datasets in Python for data analysis.\n",
        "\n",
        "Make sure you run all of the code snippets in order or else you might get an error!"
      ]
    },
    {
      "cell_type": "markdown",
      "metadata": {
        "id": "8TOLd_q9AadC"
      },
      "source": [
        "## Prerequisites\n",
        "\n",
        "Here we will install a few libraries for data analysis in Python."
      ]
    },
    {
      "cell_type": "code",
      "metadata": {
        "id": "1WwAF610_4bU",
        "colab": {
          "base_uri": "https://localhost:8080/"
        },
        "outputId": "e7787c64-d204-4576-c51e-c372427f0e3c"
      },
      "source": [
        "!apt-get install -qq python3-matplotlib python3-pandas python3-seaborn"
      ],
      "execution_count": null,
      "outputs": [
        {
          "output_type": "stream",
          "text": [
            "Extracting templates from packages: 100%\n",
            "Selecting previously unselected package fonts-lyx.\n",
            "(Reading database ... 144786 files and directories currently installed.)\n",
            "Preparing to unpack .../00-fonts-lyx_2.2.4-0ubuntu0.18.04.1_all.deb ...\n",
            "Unpacking fonts-lyx (2.2.4-0ubuntu0.18.04.1) ...\n",
            "Selecting previously unselected package javascript-common.\n",
            "Preparing to unpack .../01-javascript-common_11_all.deb ...\n",
            "Unpacking javascript-common (11) ...\n",
            "Selecting previously unselected package libblosc1.\n",
            "Preparing to unpack .../02-libblosc1_1.14.2+ds1-1_amd64.deb ...\n",
            "Unpacking libblosc1 (1.14.2+ds1-1) ...\n",
            "Selecting previously unselected package libjs-jquery.\n",
            "Preparing to unpack .../03-libjs-jquery_3.2.1-1_all.deb ...\n",
            "Unpacking libjs-jquery (3.2.1-1) ...\n",
            "Selecting previously unselected package libjs-jquery-ui.\n",
            "Preparing to unpack .../04-libjs-jquery-ui_1.12.1+dfsg-5_all.deb ...\n",
            "Unpacking libjs-jquery-ui (1.12.1+dfsg-5) ...\n",
            "Selecting previously unselected package ttf-bitstream-vera.\n",
            "Preparing to unpack .../05-ttf-bitstream-vera_1.10-8_all.deb ...\n",
            "Unpacking ttf-bitstream-vera (1.10-8) ...\n",
            "Selecting previously unselected package python-matplotlib-data.\n",
            "Preparing to unpack .../06-python-matplotlib-data_2.1.1-2ubuntu3_all.deb ...\n",
            "Unpacking python-matplotlib-data (2.1.1-2ubuntu3) ...\n",
            "Selecting previously unselected package python-tables-data.\n",
            "Preparing to unpack .../07-python-tables-data_3.4.2-4_all.deb ...\n",
            "Unpacking python-tables-data (3.4.2-4) ...\n",
            "Selecting previously unselected package python3-bs4.\n",
            "Preparing to unpack .../08-python3-bs4_4.6.0-1_all.deb ...\n",
            "Unpacking python3-bs4 (4.6.0-1) ...\n",
            "Selecting previously unselected package python3-pkg-resources.\n",
            "Preparing to unpack .../09-python3-pkg-resources_39.0.1-2_all.deb ...\n",
            "Unpacking python3-pkg-resources (39.0.1-2) ...\n",
            "Selecting previously unselected package python3-chardet.\n",
            "Preparing to unpack .../10-python3-chardet_3.0.4-1_all.deb ...\n",
            "Unpacking python3-chardet (3.0.4-1) ...\n",
            "Selecting previously unselected package python3-six.\n",
            "Preparing to unpack .../11-python3-six_1.11.0-2_all.deb ...\n",
            "Unpacking python3-six (1.11.0-2) ...\n",
            "Selecting previously unselected package python3-cycler.\n",
            "Preparing to unpack .../12-python3-cycler_0.10.0-1_all.deb ...\n",
            "Unpacking python3-cycler (0.10.0-1) ...\n",
            "Selecting previously unselected package python3-dateutil.\n",
            "Preparing to unpack .../13-python3-dateutil_2.6.1-1_all.deb ...\n",
            "Unpacking python3-dateutil (2.6.1-1) ...\n",
            "Selecting previously unselected package python3-decorator.\n",
            "Preparing to unpack .../14-python3-decorator_4.1.2-1_all.deb ...\n",
            "Unpacking python3-decorator (4.1.2-1) ...\n",
            "Selecting previously unselected package python3-webencodings.\n",
            "Preparing to unpack .../15-python3-webencodings_0.5-2_all.deb ...\n",
            "Unpacking python3-webencodings (0.5-2) ...\n",
            "Selecting previously unselected package python3-html5lib.\n",
            "Preparing to unpack .../16-python3-html5lib_0.999999999-1_all.deb ...\n",
            "Unpacking python3-html5lib (0.999999999-1) ...\n",
            "Selecting previously unselected package python3-lxml:amd64.\n",
            "Preparing to unpack .../17-python3-lxml_4.2.1-1ubuntu0.1_amd64.deb ...\n",
            "Unpacking python3-lxml:amd64 (4.2.1-1ubuntu0.1) ...\n",
            "Selecting previously unselected package python3-pyparsing.\n",
            "Preparing to unpack .../18-python3-pyparsing_2.2.0+dfsg1-2_all.deb ...\n",
            "Unpacking python3-pyparsing (2.2.0+dfsg1-2) ...\n",
            "Selecting previously unselected package python3-tz.\n",
            "Preparing to unpack .../19-python3-tz_2018.3-2_all.deb ...\n",
            "Unpacking python3-tz (2018.3-2) ...\n",
            "Selecting previously unselected package python3-matplotlib.\n",
            "Preparing to unpack .../20-python3-matplotlib_2.1.1-2ubuntu3_amd64.deb ...\n",
            "Unpacking python3-matplotlib (2.1.1-2ubuntu3) ...\n",
            "Selecting previously unselected package python3-numexpr.\n",
            "Preparing to unpack .../21-python3-numexpr_2.6.4-1_amd64.deb ...\n",
            "Unpacking python3-numexpr (2.6.4-1) ...\n",
            "Selecting previously unselected package python3-olefile.\n",
            "Preparing to unpack .../22-python3-olefile_0.45.1-1_all.deb ...\n",
            "Unpacking python3-olefile (0.45.1-1) ...\n",
            "Selecting previously unselected package python3-pandas-lib.\n",
            "Preparing to unpack .../23-python3-pandas-lib_0.22.0-4ubuntu1_amd64.deb ...\n",
            "Unpacking python3-pandas-lib (0.22.0-4ubuntu1) ...\n",
            "Selecting previously unselected package python3-pandas.\n",
            "Preparing to unpack .../24-python3-pandas_0.22.0-4ubuntu1_all.deb ...\n",
            "Unpacking python3-pandas (0.22.0-4ubuntu1) ...\n",
            "Selecting previously unselected package python3-patsy.\n",
            "Preparing to unpack .../25-python3-patsy_0.4.1+git34-ga5b54c2-1ubuntu0.1_all.deb ...\n",
            "Unpacking python3-patsy (0.4.1+git34-ga5b54c2-1ubuntu0.1) ...\n",
            "Selecting previously unselected package python3-pil:amd64.\n",
            "Preparing to unpack .../26-python3-pil_5.1.0-1ubuntu0.3_amd64.deb ...\n",
            "Unpacking python3-pil:amd64 (5.1.0-1ubuntu0.3) ...\n",
            "Selecting previously unselected package python3-scipy.\n",
            "Preparing to unpack .../27-python3-scipy_0.19.1-2ubuntu1_amd64.deb ...\n",
            "Unpacking python3-scipy (0.19.1-2ubuntu1) ...\n",
            "Selecting previously unselected package python3-seaborn.\n",
            "Preparing to unpack .../28-python3-seaborn_0.8.0-1_all.deb ...\n",
            "Unpacking python3-seaborn (0.8.0-1) ...\n",
            "Selecting previously unselected package python3-tables-lib.\n",
            "Preparing to unpack .../29-python3-tables-lib_3.4.2-4_amd64.deb ...\n",
            "Unpacking python3-tables-lib (3.4.2-4) ...\n",
            "Selecting previously unselected package python3-tables.\n",
            "Preparing to unpack .../30-python3-tables_3.4.2-4_all.deb ...\n",
            "Unpacking python3-tables (3.4.2-4) ...\n",
            "Setting up libjs-jquery (3.2.1-1) ...\n",
            "Setting up libblosc1 (1.14.2+ds1-1) ...\n",
            "Setting up python3-pil:amd64 (5.1.0-1ubuntu0.3) ...\n",
            "Setting up python3-webencodings (0.5-2) ...\n",
            "Setting up python3-tables-lib (3.4.2-4) ...\n",
            "Setting up python3-lxml:amd64 (4.2.1-1ubuntu0.1) ...\n",
            "Setting up python3-olefile (0.45.1-1) ...\n",
            "Setting up python3-six (1.11.0-2) ...\n",
            "Setting up python3-pyparsing (2.2.0+dfsg1-2) ...\n",
            "Setting up python3-cycler (0.10.0-1) ...\n",
            "Setting up python-tables-data (3.4.2-4) ...\n",
            "Setting up python3-pkg-resources (39.0.1-2) ...\n",
            "Setting up python3-bs4 (4.6.0-1) ...\n",
            "Setting up python3-pandas-lib (0.22.0-4ubuntu1) ...\n",
            "Setting up python3-chardet (3.0.4-1) ...\n",
            "Setting up python3-patsy (0.4.1+git34-ga5b54c2-1ubuntu0.1) ...\n",
            "Setting up python3-html5lib (0.999999999-1) ...\n",
            "Setting up libjs-jquery-ui (1.12.1+dfsg-5) ...\n",
            "Setting up ttf-bitstream-vera (1.10-8) ...\n",
            "Setting up javascript-common (11) ...\n",
            "Setting up python3-decorator (4.1.2-1) ...\n",
            "Setting up python3-tz (2018.3-2) ...\n",
            "Setting up python3-dateutil (2.6.1-1) ...\n",
            "Setting up fonts-lyx (2.2.4-0ubuntu0.18.04.1) ...\n",
            "Setting up python3-scipy (0.19.1-2ubuntu1) ...\n",
            "Setting up python-matplotlib-data (2.1.1-2ubuntu3) ...\n",
            "Setting up python3-numexpr (2.6.4-1) ...\n",
            "Setting up python3-tables (3.4.2-4) ...\n",
            "Setting up python3-pandas (0.22.0-4ubuntu1) ...\n",
            "Setting up python3-matplotlib (2.1.1-2ubuntu3) ...\n",
            "Setting up python3-seaborn (0.8.0-1) ...\n",
            "Processing triggers for man-db (2.8.3-2ubuntu0.1) ...\n",
            "Processing triggers for fontconfig (2.12.6-0ubuntu2) ...\n",
            "Processing triggers for libc-bin (2.27-3ubuntu1.2) ...\n",
            "/sbin/ldconfig.real: /usr/local/lib/python3.6/dist-packages/ideep4py/lib/libmkldnn.so.0 is not a symbolic link\n",
            "\n"
          ],
          "name": "stdout"
        }
      ]
    },
    {
      "cell_type": "markdown",
      "metadata": {
        "id": "JaopUdlvBVrf"
      },
      "source": [
        "## Imports\n",
        "\n",
        "We need to import Pandas (`pd`) and the Pyplot module (`plt`) from matplotlib."
      ]
    },
    {
      "cell_type": "code",
      "metadata": {
        "id": "be7t58UMAnsg"
      },
      "source": [
        "import pandas as pd\n",
        "import matplotlib.pyplot as plt"
      ],
      "execution_count": null,
      "outputs": []
    },
    {
      "cell_type": "markdown",
      "metadata": {
        "id": "WNbAKk-vBfy3"
      },
      "source": [
        "## Box and Whisker Examples\n",
        "\n",
        "Here we will create some box and whisker plots from the Major City Populations dataset.\n",
        "\n",
        "See: [matplotlib.pyplot.boxplot](https://matplotlib.org/3.2.1/api/_as_gen/matplotlib.pyplot.boxplot.html)"
      ]
    },
    {
      "cell_type": "code",
      "metadata": {
        "id": "jLH3oBCzAiLr",
        "colab": {
          "base_uri": "https://localhost:8080/"
        },
        "outputId": "952dcc5c-8fae-4a63-e28d-c50cbe8277f9"
      },
      "source": [
        "# Read the CSV (TSV) file and print it out.\n",
        "# df stands for \"DataFrame\" a type of object in pandas.\n",
        "df = pd.read_csv('https://github.com/bmsa-cs/cpmp-datasets/raw/main/tsv/MajorCityPopulations.tsv', delimiter='\\t')\n",
        "\n",
        "#Print out the dataframe\n",
        "print(df)"
      ],
      "execution_count": null,
      "outputs": [
        {
          "output_type": "stream",
          "text": [
            "           U.S. City  2000 (in 1,000s)  2010 (in 1,000s)\n",
            "0        Atlanta, GA               416               420\n",
            "1         Aurora, CO               276               325\n",
            "2       Berkeley, CA               103               113\n",
            "3          Boise, ID               186               206\n",
            "4        El Paso, TX               564               649\n",
            "5       Hartford, CT               122               125\n",
            "6   Independence, MO               113               117\n",
            "7      Milwaukee, WI               597               595\n",
            "8         Newark, NJ               274               277\n",
            "9      Portland, OR                529               584\n",
            "10     St. Louis, MO               348               319\n",
            "11  Washington, D.C.               572               602\n"
          ],
          "name": "stdout"
        }
      ]
    },
    {
      "cell_type": "markdown",
      "metadata": {
        "id": "ErjXR360fa8w"
      },
      "source": [
        "We're going to use the 2000 and 2010 column to create and label boxplots.\n",
        "\n"
      ]
    },
    {
      "cell_type": "code",
      "metadata": {
        "id": "2ONWKVIgHHCM",
        "colab": {
          "base_uri": "https://localhost:8080/"
        },
        "outputId": "8bca4fe7-2c65-404e-a578-c439dc65025d"
      },
      "source": [
        "# These are the column headings\n",
        "print(df.keys())"
      ],
      "execution_count": null,
      "outputs": [
        {
          "output_type": "stream",
          "text": [
            "Index(['U.S. City', '2000 (in 1,000s)', '2010 (in 1,000s)'], dtype='object')\n"
          ],
          "name": "stdout"
        }
      ]
    },
    {
      "cell_type": "markdown",
      "metadata": {
        "id": "TciV4HtfB4D5"
      },
      "source": [
        "We're going to create boxplots out of both columns of data:\n",
        "`'2000 (in 1,000s)'` and `'2010 (in 1,000s)'`"
      ]
    },
    {
      "cell_type": "code",
      "metadata": {
        "id": "BJMeRRf9B7df",
        "colab": {
          "base_uri": "https://localhost:8080/",
          "height": 295
        },
        "outputId": "c4a4d78a-bdeb-4c9f-ef22-a78219c22198"
      },
      "source": [
        "# We want to create box plots in separate columns out of both the 2000 and 2010 populations.\n",
        "data = [df['2000 (in 1,000s)'], df['2010 (in 1,000s)']]\n",
        "\n",
        "# Create the boxplot from the dataframe and store it in ax. (axes subplot)\n",
        "ax = df.boxplot(column=['2000 (in 1,000s)','2010 (in 1,000s)'],grid=True)\n",
        "\n",
        "# Label the box plot\n",
        "ax.set_title(\"Major City Populations\")\n",
        "ax.set_xlabel(\"Year\")\n",
        "ax.set_ylabel(\"Population\")\n",
        "\n",
        "# plt.tight_layout()\n",
        "plt.show()"
      ],
      "execution_count": null,
      "outputs": [
        {
          "output_type": "display_data",
          "data": {
            "image/png": "[encoded data removed]",
            "text/plain": [
              "<Figure size 432x288 with 1 Axes>"
            ]
          },
          "metadata": {
            "tags": [],
            "needs_background": "light"
          }
        }
      ]
    },
    {
      "cell_type": "markdown",
      "metadata": {
        "id": "eXg2_evlkIfG"
      },
      "source": [
        "## Maximums and Minimums\n",
        "\n",
        "Pandas allows us to quickly calculate the minimums and maximums of a DataFrame."
      ]
    },
    {
      "cell_type": "code",
      "metadata": {
        "id": "fIbJ3rrDkOr-",
        "colab": {
          "base_uri": "https://localhost:8080/"
        },
        "outputId": "1ea1364e-a8c5-438a-e24c-9eb8b8cd7e94"
      },
      "source": [
        "#numeric_only = True hides str values. (eg. first/last city in the alphabet.)\n",
        "min = df.min(numeric_only=True)\n",
        "max = df.max(numeric_only=True)\n",
        "\n",
        "print(\"Min Population:\")\n",
        "print(min)\n",
        "print(\"Max Population:\")\n",
        "print(max)"
      ],
      "execution_count": null,
      "outputs": [
        {
          "output_type": "stream",
          "text": [
            "Min Population:\n",
            "2000 (in 1,000s)    103\n",
            "2010 (in 1,000s)    113\n",
            "dtype: int64\n",
            "Max Population:\n",
            "2000 (in 1,000s)    597\n",
            "2010 (in 1,000s)    649\n",
            "dtype: int64\n"
          ],
          "name": "stdout"
        }
      ]
    },
    {
      "cell_type": "markdown",
      "metadata": {
        "id": "XKXLiKxjjK1B"
      },
      "source": [
        "## Measures of central tendency\n",
        "\n",
        "Pandas makes it really easy to calculate measures of central tendency (mean, median, and mode) on a DataFrame object.\n"
      ]
    },
    {
      "cell_type": "code",
      "metadata": {
        "id": "k1nuKp2gX0UB",
        "colab": {
          "base_uri": "https://localhost:8080/"
        },
        "outputId": "36e42d7d-5a6f-4fea-c5b8-bb9c45a7b927"
      },
      "source": [
        "print(\"Mean:\")\n",
        "print(df.mean())\n",
        "print(\"Median:\")\n",
        "print(df.median())\n",
        "print(\"Mode:\")\n",
        "print(df.mode(numeric_only=True))"
      ],
      "execution_count": null,
      "outputs": [
        {
          "output_type": "stream",
          "text": [
            "Mean:\n",
            "2000 (in 1,000s)    341.666667\n",
            "2010 (in 1,000s)    361.000000\n",
            "dtype: float64\n",
            "Median:\n",
            "2000 (in 1,000s)    312.0\n",
            "2010 (in 1,000s)    322.0\n",
            "dtype: float64\n",
            "Mode:\n",
            "    2000 (in 1,000s)  2010 (in 1,000s)\n",
            "0                103               113\n",
            "1                113               117\n",
            "2                122               125\n",
            "3                186               206\n",
            "4                274               277\n",
            "5                276               319\n",
            "6                348               325\n",
            "7                416               420\n",
            "8                529               584\n",
            "9                564               595\n",
            "10               572               602\n",
            "11               597               649\n"
          ],
          "name": "stdout"
        }
      ]
    },
    {
      "cell_type": "markdown",
      "metadata": {
        "id": "z10coszHlD5D"
      },
      "source": [
        "Looks like mode wasn't very useful in a dataset with all different populations."
      ]
    },
    {
      "cell_type": "markdown",
      "metadata": {
        "id": "kHKoWSpCjxLv"
      },
      "source": [
        "## Standard Deviation\n",
        "\n",
        "We can also calculate the standard deviation of a DataFrame with `.std()`"
      ]
    },
    {
      "cell_type": "code",
      "metadata": {
        "id": "HAY0xC5Fj5IB",
        "colab": {
          "base_uri": "https://localhost:8080/"
        },
        "outputId": "cb5c8ce8-56e0-4987-9011-afd687387bf0"
      },
      "source": [
        "std = df.std()\n",
        "print(f\"Std. Deviation:\\n{std}\")"
      ],
      "execution_count": null,
      "outputs": [
        {
          "output_type": "stream",
          "text": [
            "Std. Deviation:\n",
            "2000 (in 1,000s)    190.446047\n",
            "2010 (in 1,000s)    204.465601\n",
            "dtype: float64\n"
          ],
          "name": "stdout"
        }
      ]
    },
    {
      "cell_type": "markdown",
      "metadata": {
        "id": "8vXyFNBblSWD"
      },
      "source": [
        "## Histograms and Distributions\n",
        "\n",
        "`seaborn` is a package that extends on `matplotlib` to add additional visualization options, including KDE curves."
      ]
    },
    {
      "cell_type": "code",
      "metadata": {
        "id": "Z_n8wZ3TlhUX",
        "colab": {
          "base_uri": "https://localhost:8080/",
          "height": 369
        },
        "outputId": "70ae9691-839f-4a88-ee95-e13d530ccc2c"
      },
      "source": [
        "# https://www.machinelearningplus.com/plots/matplotlib-histogram-python-examples/\n",
        "import seaborn as sns\n",
        "sns.set_style('white')\n",
        "#kde=True enables the distribution curve, not very useful with this dataset.\n",
        "sns.displot(data, bins=10, kde=True)\n",
        "plt.yscale(\"linear\")\n",
        "plt.show()"
      ],
      "execution_count": null,
      "outputs": [
        {
          "output_type": "display_data",
          "data": {
            "image/png": "[encoded data removed]",
            "text/plain": [
              "<Figure size 478x360 with 1 Axes>"
            ]
          },
          "metadata": {
            "tags": []
          }
        }
      ]
    },
    {
      "cell_type": "markdown",
      "metadata": {
        "id": "ZViE2AwsOjjx"
      },
      "source": [
        "## Random\n"
      ]
    }
  ]
}